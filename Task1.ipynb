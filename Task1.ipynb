{
 "cells": [
  {
   "cell_type": "markdown",
   "source": [
    "# Data Preprocessing and Cleaning: EDA of blazar data"
   ],
   "metadata": {
    "collapsed": false
   },
   "id": "7c97a409f93c9025"
  },
  {
   "cell_type": "code",
   "outputs": [],
   "source": [
    "#lets import the data\n",
    "import pandas as pd\n",
    "\n",
    "vou_100 = pd.read_csv('vou_100.csv')\n",
    "redshifts = pd.read_csv('redshifts.csv')\n",
    "\n",
    "\n"
   ],
   "metadata": {
    "collapsed": false,
    "ExecuteTime": {
     "end_time": "2024-05-23T20:42:50.690543Z",
     "start_time": "2024-05-23T20:42:50.594956Z"
    }
   },
   "id": "b983e6ed814de1e1",
   "execution_count": 57
  },
  {
   "cell_type": "code",
   "outputs": [
    {
     "name": "stdout",
     "output_type": "stream",
     "text": [
      "Initial vou_100 Data:\n",
      "    Unnamed: 0     frequency         nufnu   nufnu_upper   nufnu_lower  \\\n",
      "0      1006376  1.400000e+09  3.042000e-15  3.133000e-15  2.951000e-15   \n",
      "1      1006377  8.870000e+08  1.838000e-15  1.976000e-15  1.699000e-15   \n",
      "2      1006378  8.870000e+08  1.838000e-15  1.976000e-15  1.699000e-15   \n",
      "3      1006379  3.000000e+09  5.814000e-15  5.875000e-15  5.754000e-15   \n",
      "4      1006380  2.418000e+17  5.303000e-13  8.079000e-13  2.526000e-13   \n",
      "5      1006381  7.253000e+17  6.162000e-13  9.364000e-13  2.960000e-13   \n",
      "6      1006382  1.209000e+18  0.000000e+00  0.000000e+00  0.000000e+00   \n",
      "7      1006383  2.418000e+17  8.386000e-13  1.016000e-12  6.615000e-13   \n",
      "8      1006384  1.500000e+08  1.130000e-15  1.243000e-15  1.017000e-15   \n",
      "9      1006385  7.400000e+07  9.842000e-16  1.036000e-15  9.324000e-16   \n",
      "10     1006386  8.400000e+09  8.224000e-15  0.000000e+00  0.000000e+00   \n",
      "11     1006387  8.400000e+09  1.596000e-15  0.000000e+00  0.000000e+00   \n",
      "12     1006388  4.800000e+09  5.712000e-15  6.240000e-15  5.184000e-15   \n",
      "13     1006389  4.800000e+09  5.424000e-15  6.192000e-15  4.656000e-15   \n",
      "14     1006390  4.850000e+09  5.286000e-15  0.000000e+00  0.000000e+00   \n",
      "15     1006391  1.400000e+09  2.926000e-15  0.000000e+00  0.000000e+00   \n",
      "16     1006392  3.650000e+08  1.935000e-15  0.000000e+00  0.000000e+00   \n",
      "17     1006393  1.389000e+14  1.395000e-12  1.532000e-12  1.270000e-12   \n",
      "18     1006394  1.804000e+14  1.139000e-12  1.298000e-12  9.995000e-13   \n",
      "19     1006395  2.427000e+14  1.262000e-12  1.383000e-12  1.152000e-12   \n",
      "\n",
      "    start_time  end_time flag  Catalog     nufnu_err        source_name  \n",
      "0      55000.0   55000.0  Det     NVSS  9.100000e-17  4FGL_J0001.5+2113  \n",
      "1      55000.0   55000.0  Det     RACS  1.385000e-16  4FGL_J0001.5+2113  \n",
      "2      55000.0   55000.0  Det     RACS  1.385000e-16  4FGL_J0001.5+2113  \n",
      "3      55000.0   55000.0  Det  VLASSQL  6.050000e-17  4FGL_J0001.5+2113  \n",
      "4      55000.0   55000.0  Det   XMMSL2  2.776500e-13  4FGL_J0001.5+2113  \n",
      "5      55000.0   55000.0  Det   XMMSL2  3.202000e-13  4FGL_J0001.5+2113  \n",
      "6      55000.0   55000.0   UL   XMMSL2  0.000000e+00  4FGL_J0001.5+2113  \n",
      "7      55000.0   55000.0  Det     RASS  1.772500e-13  4FGL_J0001.5+2113  \n",
      "8      55000.0   55000.0  Det  TGSS150  1.130000e-16  4FGL_J0001.5+2113  \n",
      "9      55000.0   55000.0  Det    VLSSR  5.180000e-17  4FGL_J0001.5+2113  \n",
      "10     55000.0   55000.0  Det   CRATES  0.000000e+00  4FGL_J0001.5+2113  \n",
      "11     55000.0   55000.0  Det   CRATES  0.000000e+00  4FGL_J0001.5+2113  \n",
      "12     55000.0   55000.0  Det      GB6  5.280000e-16  4FGL_J0001.5+2113  \n",
      "13     55000.0   55000.0  Det     GB87  7.680000e-16  4FGL_J0001.5+2113  \n",
      "14     55000.0   55000.0  Det  NORTH20  0.000000e+00  4FGL_J0001.5+2113  \n",
      "15     55000.0   55000.0  Det  NORTH20  0.000000e+00  4FGL_J0001.5+2113  \n",
      "16     55000.0   55000.0  Det  NORTH20  0.000000e+00  4FGL_J0001.5+2113  \n",
      "17     55000.0   55000.0  Det    2MASS  1.310000e-13  4FGL_J0001.5+2113  \n",
      "18     55000.0   55000.0  Det    2MASS  1.492500e-13  4FGL_J0001.5+2113  \n",
      "19     55000.0   55000.0  Det    2MASS  1.155000e-13  4FGL_J0001.5+2113  \n",
      "Initial redshifts Data:\n",
      "    redshift                name\n",
      "0        NaN   4FGL_J0000.3-7355\n",
      "1        NaN   4FGL_J0000.5+0743\n",
      "2   1.106000   4FGL_J0000.7+2530\n",
      "3        NaN   4FGL_J0001.2+4741\n",
      "4        NaN   4FGL_J0001.2-0747\n",
      "5        NaN   4FGL_J0001.4-0010\n",
      "6   0.099830   4FGL_J0001.5+2113\n",
      "7        NaN   4FGL_J0001.6+3503\n",
      "8        NaN   4FGL_J0001.6-4156\n",
      "9   1.309990   4FGL_J0001.8-2153\n",
      "10  2.057129   4FGL_J0002.1-6728\n",
      "11  0.880000  4FGL_J0002.1+6721c\n",
      "12  0.229000   4FGL_J0002.3-0815\n",
      "13  0.347000   4FGL_J0002.4-5156\n",
      "14  0.787000   4FGL_J0002.7+7220\n",
      "15       NaN   4FGL_J0002.8+6217\n",
      "16  0.280000   4FGL_J0003.1-5248\n",
      "17       NaN   4FGL_J0003.2+2207\n",
      "18  0.147000   4FGL_J0003.3+2511\n",
      "19       NaN   4FGL_J0003.3-1928\n"
     ]
    }
   ],
   "source": [
    "# first rows of each dataset\n",
    "print(\"Initial vou_100 Data:\")\n",
    "print(vou_100.head(20))\n",
    "print(\"Initial redshifts Data:\")\n",
    "print(redshifts.head(20))\n"
   ],
   "metadata": {
    "collapsed": false,
    "ExecuteTime": {
     "end_time": "2024-05-23T20:42:50.826173Z",
     "start_time": "2024-05-23T20:42:50.815483Z"
    }
   },
   "id": "ea606a60770918e8",
   "execution_count": 58
  },
  {
   "cell_type": "code",
   "outputs": [
    {
     "name": "stdout",
     "output_type": "stream",
     "text": [
      "Initial data size: 86204\n"
     ]
    }
   ],
   "source": [
    "# the initial data size\n",
    "initial_data_size = len(vou_100)\n",
    "print(f\"Initial data size: {initial_data_size}\")\n"
   ],
   "metadata": {
    "collapsed": false,
    "ExecuteTime": {
     "end_time": "2024-05-23T20:42:50.981103Z",
     "start_time": "2024-05-23T20:42:50.977671Z"
    }
   },
   "id": "fda5ac6dd08cbae3",
   "execution_count": 59
  },
  {
   "cell_type": "markdown",
   "source": [
    "## Data Preprocessing Steps\n",
    "\n",
    "In this section, we performed several preprocessing steps on the datasets before merging them. Here's a summary of the preprocessing steps:\n",
    "\n",
    "1. **Filtering nufnu Values:** We removed rows from the `vou_100` dataset where the `nufnu` values were less than or equal to 0.\n",
    "\n",
    "2. **Filtering nufnu Range:** We further filtered the `vou_100` dataset to keep only those rows where the `nufnu` values fell within the range defined by `nufnu_lower` and `nufnu_upper` columns.\n",
    "\n",
    "3. **Removing 'UL' Flag:** We excluded rows from the `vou_100` dataset where the `flag` column had the value 'UL' (Upper Limit).\n",
    "\n",
    "These preprocessing steps were necessary to ensure that the data used for further analysis was clean and relevant.\n"
   ],
   "metadata": {
    "collapsed": false
   },
   "id": "c640369b32b37c5b"
  },
  {
   "cell_type": "code",
   "outputs": [],
   "source": [
    "# Step 1: Remove rows where nufnu is less than or equal to 0\n",
    "vou_100 = vou_100[vou_100['nufnu'] > 0]\n",
    "\n",
    "# Step 2: Remove rows where nufnu is outside the range of nufnu_lower and nufnu_upper\n",
    "vou_100 = vou_100[(vou_100['nufnu'] >= vou_100['nufnu_lower']) & (vou_100['nufnu'] <= vou_100['nufnu_upper'])]\n",
    "\n",
    "# Step 3: Remove rows with the 'UL' flag\n",
    "vou_100 = vou_100[vou_100['flag'] != 'UL']\n"
   ],
   "metadata": {
    "collapsed": false,
    "ExecuteTime": {
     "end_time": "2024-05-23T20:42:51.339434Z",
     "start_time": "2024-05-23T20:42:51.312930Z"
    }
   },
   "id": "69070b27dda0b5a0",
   "execution_count": 60
  },
  {
   "cell_type": "markdown",
   "source": [
    "## Note\n",
    "###  We could have removed either upper, lower bound or error because they are linearly correlated. "
   ],
   "metadata": {
    "collapsed": false
   },
   "id": "3504865cefaa8df4"
  },
  {
   "cell_type": "markdown",
   "source": [
    "## Now lets merge the data of the redshift values from these files.\n",
    "### This is a property of a blazar and we will assign the same value of redshift for every data point from vou_100"
   ],
   "metadata": {
    "collapsed": false
   },
   "id": "77ab9a239b114343"
  },
  {
   "cell_type": "code",
   "outputs": [
    {
     "name": "stdout",
     "output_type": "stream",
     "text": [
      "Number of data points with redshift before cleaning: 1591\n",
      "Number of data points without redshift before cleaning: 5068\n"
     ]
    }
   ],
   "source": [
    "initial_with_redshift = redshifts.dropna(subset=['redshift'])\n",
    "initial_without_redshift = redshifts[redshifts['redshift'].isna()]\n",
    "\n",
    "# counts of data with and without redshift before merging\n",
    "print(f\"Number of data points with redshift before cleaning: {len(initial_with_redshift)}\")\n",
    "print(f\"Number of data points without redshift before cleaning: {len(initial_without_redshift)}\")\n"
   ],
   "metadata": {
    "collapsed": false,
    "ExecuteTime": {
     "end_time": "2024-05-23T20:42:51.655640Z",
     "start_time": "2024-05-23T20:42:51.648971Z"
    }
   },
   "id": "3c9a3c1728d1ef48",
   "execution_count": 61
  },
  {
   "cell_type": "code",
   "outputs": [
    {
     "name": "stdout",
     "output_type": "stream",
     "text": [
      "Number of NaN values in redshift column:\n",
      "5068\n"
     ]
    }
   ],
   "source": [
    "# outer merge on 'source_name' and 'name'\n",
    "merged_data = pd.merge(vou_100, redshifts, left_on='source_name', right_on='name', how='outer')\n",
    "\n",
    "nan_count = merged_data['redshift'].isna().sum()\n",
    "\n",
    "print(\"Number of NaN values in redshift column:\")\n",
    "print(nan_count)"
   ],
   "metadata": {
    "collapsed": false,
    "ExecuteTime": {
     "end_time": "2024-05-23T20:42:51.839435Z",
     "start_time": "2024-05-23T20:42:51.807529Z"
    }
   },
   "id": "46b5b4f4a2508b5b",
   "execution_count": 62
  },
  {
   "cell_type": "code",
   "outputs": [],
   "source": [
    "# drop the  'name' column after the merge\n",
    "merged_data.drop(columns='name', inplace=True)"
   ],
   "metadata": {
    "collapsed": false,
    "ExecuteTime": {
     "end_time": "2024-05-23T20:42:51.996591Z",
     "start_time": "2024-05-23T20:42:51.987181Z"
    }
   },
   "id": "99991eaa92efd17b",
   "execution_count": 63
  },
  {
   "cell_type": "markdown",
   "source": [
    "### Redshift Analysis and Visualization\n"
   ],
   "metadata": {
    "collapsed": false
   },
   "id": "aca9189c64ce7d69"
  },
  {
   "cell_type": "markdown",
   "source": [
    "The histogram below shows the distribution of redshift values in the dataset.\n",
    "\n"
   ],
   "metadata": {
    "collapsed": false
   },
   "id": "cb6914cd042efe9b"
  },
  {
   "cell_type": "code",
   "outputs": [],
   "source": [
    "#importing libraries\n",
    "import pandas as pd\n",
    "import matplotlib.pyplot as plt"
   ],
   "metadata": {
    "collapsed": false,
    "ExecuteTime": {
     "end_time": "2024-05-23T20:42:52.452862Z",
     "start_time": "2024-05-23T20:42:52.449652Z"
    }
   },
   "id": "f39714c31e919c83",
   "execution_count": 64
  },
  {
   "cell_type": "code",
   "outputs": [
    {
     "data": {
      "text/plain": "<Figure size 640x480 with 1 Axes>",
      "image/png": "[encoded data removed]"
     },
     "metadata": {},
     "output_type": "display_data"
    }
   ],
   "source": [
    "#distribution of redshift values\n",
    "plt.hist(merged_data['redshift'], bins=20, edgecolor='black')\n",
    "plt.xlabel('Redshift')\n",
    "plt.ylabel('Count')\n",
    "plt.title('Distribution of Redshift Values')\n",
    "plt.show()\n"
   ],
   "metadata": {
    "collapsed": false,
    "ExecuteTime": {
     "end_time": "2024-05-23T20:42:52.735367Z",
     "start_time": "2024-05-23T20:42:52.634468Z"
    }
   },
   "id": "61f90b85f7e921c2",
   "execution_count": 65
  },
  {
   "cell_type": "markdown",
   "source": [
    "#### Redshift Value Counts in Specified Bins\n",
    "The table below shows the count of redshift values within specified bins."
   ],
   "metadata": {
    "collapsed": false
   },
   "id": "c5627af067c7798"
  },
  {
   "cell_type": "code",
   "outputs": [
    {
     "name": "stdout",
     "output_type": "stream",
     "text": [
      "Redshift value 0 to 1: count: 47271\n",
      "Redshift value 1 to 2: count: 25818\n",
      "Redshift value 2+: count: 2877\n"
     ]
    }
   ],
   "source": [
    "# create bins \n",
    "bins = [0, 1, 2, float('inf')]\n",
    "labels = ['0 to 1', '1 to 2', '2+']\n",
    "merged_data['redshift_bin'] = pd.cut(merged_data['redshift'], bins=bins, labels=labels)\n",
    "redshift_bin_counts = merged_data['redshift_bin'].value_counts().sort_index()\n",
    "\n",
    "# Print the counts \n",
    "for bin_label, count in redshift_bin_counts.items():\n",
    "    print(f\"Redshift value {bin_label}: count: {count}\")\n"
   ],
   "metadata": {
    "collapsed": false,
    "ExecuteTime": {
     "end_time": "2024-05-23T20:42:52.952761Z",
     "start_time": "2024-05-23T20:42:52.945915Z"
    }
   },
   "id": "bd5eaac6542b318f",
   "execution_count": 66
  },
  {
   "cell_type": "markdown",
   "source": [
    "#### Frequency vs. Nufnu Colored by Redshift\n",
    "The scatter plot below visualizes the relationship between frequency and nufnu, colored by redshift values."
   ],
   "metadata": {
    "collapsed": false
   },
   "id": "12c31b62917800b3"
  },
  {
   "cell_type": "code",
   "outputs": [
    {
     "data": {
      "text/plain": "<Figure size 1000x600 with 2 Axes>",
      "image/png": "[encoded data removed]"
     },
     "metadata": {},
     "output_type": "display_data"
    }
   ],
   "source": [
    "# frequency vs nufnu  with redshift values\n",
    "plt.figure(figsize=(10, 6))\n",
    "plt.scatter(merged_data['frequency'], merged_data['nufnu'], c=merged_data['redshift'], cmap='viridis', alpha=0.7)\n",
    "plt.colorbar(label='Redshift')\n",
    "plt.xlabel('Frequency')\n",
    "plt.ylabel('Nufnu')\n",
    "plt.title('Frequency vs Nufnu colored by Redshift')\n",
    "plt.show()\n"
   ],
   "metadata": {
    "collapsed": false,
    "ExecuteTime": {
     "end_time": "2024-05-23T20:42:54.744747Z",
     "start_time": "2024-05-23T20:42:53.748464Z"
    }
   },
   "id": "5bf37f280d7df3ea",
   "execution_count": 67
  },
  {
   "cell_type": "markdown",
   "source": [
    "## Conclusions\n",
    "### The cleaning part\n",
    "We did clean a lot of data. The steps I did are not fully complete as a bit of astronomical knowledge is needed to to complete the data transformation and cleaning to have more stable models.\n",
    "### Plots\n",
    "- As we see, we have a lot of data without redshift values.\n",
    "- From the distribution of redshift values, we observe that the count is higher for values closer to 0.\n",
    "- We can observe that for blazars with low nufnu and low frequency, redshift values tend to be lower.\n",
    " "
   ],
   "metadata": {
    "collapsed": false
   },
   "id": "20cfa7355ded337f"
  },
  {
   "cell_type": "code",
   "outputs": [],
   "source": [],
   "metadata": {
    "collapsed": false,
    "ExecuteTime": {
     "end_time": "2024-05-23T20:42:30.497501Z",
     "start_time": "2024-05-23T20:42:30.494948Z"
    }
   },
   "id": "a05a61206dcdb30d",
   "execution_count": 56
  },
  {
   "cell_type": "code",
   "outputs": [],
   "source": [],
   "metadata": {
    "collapsed": false,
    "ExecuteTime": {
     "end_time": "2024-05-23T20:42:30.499809Z",
     "start_time": "2024-05-23T20:42:30.497501Z"
    }
   },
   "id": "9681df6adfddf323",
   "execution_count": 56
  },
  {
   "cell_type": "code",
   "outputs": [],
   "source": [],
   "metadata": {
    "collapsed": false
   },
   "id": "bb913ead7196320d"
  }
 ],
 "metadata": {
  "kernelspec": {
   "display_name": "Python 3",
   "language": "python",
   "name": "python3"
  },
  "language_info": {
   "codemirror_mode": {
    "name": "ipython",
    "version": 2
   },
   "file_extension": ".py",
   "mimetype": "text/x-python",
   "name": "python",
   "nbconvert_exporter": "python",
   "pygments_lexer": "ipython2",
   "version": "2.7.6"
  }
 },
 "nbformat": 4,
 "nbformat_minor": 5
}
